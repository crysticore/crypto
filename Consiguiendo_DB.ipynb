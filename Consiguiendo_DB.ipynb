{
 "cells": [
  {
   "cell_type": "code",
   "execution_count": 2,
   "id": "df5c0869",
   "metadata": {},
   "outputs": [],
   "source": [
    "import pandas as pd"
   ]
  },
  {
   "cell_type": "code",
   "execution_count": 3,
   "id": "54c80bd1",
   "metadata": {},
   "outputs": [],
   "source": [
    "#Cargando las dos bases de datos\n",
    "price_data = pd.read_csv(\"NEAR_PRICING.csv\")\n",
    "tvl_data = pd.read_csv(\"NEAR_TVL.csv\")"
   ]
  },
  {
   "cell_type": "code",
   "execution_count": 4,
   "id": "91c71438",
   "metadata": {},
   "outputs": [
    {
     "data": {
      "text/plain": [
       "snapped_at       object\n",
       "price           float64\n",
       "market_cap      float64\n",
       "total_volume    float64\n",
       "dtype: object"
      ]
     },
     "execution_count": 4,
     "metadata": {},
     "output_type": "execute_result"
    }
   ],
   "source": [
    "price_data.dtypes"
   ]
  },
  {
   "cell_type": "code",
   "execution_count": null,
   "id": "a1ae47bd",
   "metadata": {},
   "outputs": [],
   "source": [
    "#Cambiando de tipo de datos \"object\" a \"datetime\"\n",
    "price_data[\"snapped_at\"] = pd.to_datetime(price_data[\"snapped_at\"]).dt.date\n",
    "tvl_data[\"date\"] = pd.to_datetime(tvl_data[\"date\"]).dt.date\n",
    "\n",
    "price_data[\"snapped_at\"] = pd.to_datetime(price_data[\"snapped_at\"])\n",
    "tvl_data[\"date\"] = pd.to_datetime(tvl_data[\"date\"])"
   ]
  },
  {
   "cell_type": "code",
   "execution_count": 4,
   "id": "edada1f1",
   "metadata": {},
   "outputs": [
    {
     "data": {
      "text/plain": [
       "snapped_at      datetime64[ns]\n",
       "price                  float64\n",
       "market_cap             float64\n",
       "total_volume           float64\n",
       "dtype: object"
      ]
     },
     "execution_count": 4,
     "metadata": {},
     "output_type": "execute_result"
    }
   ],
   "source": [
    "price_data.dtypes"
   ]
  },
  {
   "cell_type": "code",
   "execution_count": null,
   "id": "4866ac9b",
   "metadata": {},
   "outputs": [],
   "source": [
    "#Creacion de base de datos vacia\n",
    "final_db = pd.DataFrame()\n",
    "final_db[\"snapped_at\"] = pd.Series(dtype=\"datetime64[ns]\")\n",
    "final_db[\"token\"] = pd.Series(dtype=\"object\")\n",
    "final_db[\"name\"] = pd.Series(dtype=\"object\")\n",
    "final_db[\"tvl\"] = pd.Series(dtype=\"int64\")\n",
    "final_db[\"market_cap\"] = pd.Series(dtype=\"float64\")\n",
    "final_db[\"price\"] = pd.Series(dtype=\"float64\")\n",
    "final_db[\"correlation\"] = pd.Series(dtype=\"int64\")\n",
    "final_db[\"class\"] = pd.Series(dtype=\"int64\")\n",
    "\n",
    "#Rango de fechas con datos TVL\n",
    "min_date = \"2021-08-21\"\n",
    "max_date = \"2025-05-08\"\n",
    "min_date = pd.to_datetime(min_date)\n",
    "max_date = pd.to_datetime(max_date)\n",
    "\n",
    "good_dates = pd.date_range(start=min_date,end=max_date)\n",
    "\n",
    "#Por cada fecha, insertamos los datos de esa fecha en la nueva base de datos\n",
    "for date in good_dates:\n",
    "    price_day = price_data.loc[price_data[\"snapped_at\"] == date]\n",
    "    tvl_day = tvl_data.loc[tvl_data[\"date\"] == date]\n",
    "\n",
    "    final_db = pd.concat([pd.DataFrame([[date,\"NEAR\",\"NEAR\",tvl_day[\"tvl\"].values[0],price_day[\"market_cap\"].values[0],price_day[\"price\"].values[0],0,0]], columns=final_db.columns), final_db], ignore_index=True)\n",
    "\n"
   ]
  },
  {
   "cell_type": "code",
   "execution_count": 7,
   "id": "490b91ff",
   "metadata": {},
   "outputs": [
    {
     "data": {
      "text/html": [
       "<div>\n",
       "<style scoped>\n",
       "    .dataframe tbody tr th:only-of-type {\n",
       "        vertical-align: middle;\n",
       "    }\n",
       "\n",
       "    .dataframe tbody tr th {\n",
       "        vertical-align: top;\n",
       "    }\n",
       "\n",
       "    .dataframe thead th {\n",
       "        text-align: right;\n",
       "    }\n",
       "</style>\n",
       "<table border=\"1\" class=\"dataframe\">\n",
       "  <thead>\n",
       "    <tr style=\"text-align: right;\">\n",
       "      <th></th>\n",
       "      <th>snapped_at</th>\n",
       "      <th>token</th>\n",
       "      <th>name</th>\n",
       "      <th>tvl</th>\n",
       "      <th>market_cap</th>\n",
       "      <th>price</th>\n",
       "      <th>correlation</th>\n",
       "      <th>class</th>\n",
       "    </tr>\n",
       "  </thead>\n",
       "  <tbody>\n",
       "    <tr>\n",
       "      <th>0</th>\n",
       "      <td>2025-05-08</td>\n",
       "      <td>NEAR</td>\n",
       "      <td>NEAR</td>\n",
       "      <td>156460509</td>\n",
       "      <td>2.767121e+09</td>\n",
       "      <td>2.284913</td>\n",
       "      <td>0</td>\n",
       "      <td>0</td>\n",
       "    </tr>\n",
       "    <tr>\n",
       "      <th>1</th>\n",
       "      <td>2025-05-07</td>\n",
       "      <td>NEAR</td>\n",
       "      <td>NEAR</td>\n",
       "      <td>144885775</td>\n",
       "      <td>2.820097e+09</td>\n",
       "      <td>2.329123</td>\n",
       "      <td>0</td>\n",
       "      <td>0</td>\n",
       "    </tr>\n",
       "    <tr>\n",
       "      <th>2</th>\n",
       "      <td>2025-05-06</td>\n",
       "      <td>NEAR</td>\n",
       "      <td>NEAR</td>\n",
       "      <td>144078512</td>\n",
       "      <td>2.803325e+09</td>\n",
       "      <td>2.316457</td>\n",
       "      <td>0</td>\n",
       "      <td>0</td>\n",
       "    </tr>\n",
       "    <tr>\n",
       "      <th>3</th>\n",
       "      <td>2025-05-05</td>\n",
       "      <td>NEAR</td>\n",
       "      <td>NEAR</td>\n",
       "      <td>144173682</td>\n",
       "      <td>2.811489e+09</td>\n",
       "      <td>2.323541</td>\n",
       "      <td>0</td>\n",
       "      <td>0</td>\n",
       "    </tr>\n",
       "    <tr>\n",
       "      <th>4</th>\n",
       "      <td>2025-05-04</td>\n",
       "      <td>NEAR</td>\n",
       "      <td>NEAR</td>\n",
       "      <td>148361129</td>\n",
       "      <td>2.937361e+09</td>\n",
       "      <td>2.426043</td>\n",
       "      <td>0</td>\n",
       "      <td>0</td>\n",
       "    </tr>\n",
       "  </tbody>\n",
       "</table>\n",
       "</div>"
      ],
      "text/plain": [
       "  snapped_at token  name        tvl    market_cap     price  correlation  \\\n",
       "0 2025-05-08  NEAR  NEAR  156460509  2.767121e+09  2.284913            0   \n",
       "1 2025-05-07  NEAR  NEAR  144885775  2.820097e+09  2.329123            0   \n",
       "2 2025-05-06  NEAR  NEAR  144078512  2.803325e+09  2.316457            0   \n",
       "3 2025-05-05  NEAR  NEAR  144173682  2.811489e+09  2.323541            0   \n",
       "4 2025-05-04  NEAR  NEAR  148361129  2.937361e+09  2.426043            0   \n",
       "\n",
       "   class  \n",
       "0      0  \n",
       "1      0  \n",
       "2      0  \n",
       "3      0  \n",
       "4      0  "
      ]
     },
     "execution_count": 7,
     "metadata": {},
     "output_type": "execute_result"
    }
   ],
   "source": [
    "final_db.head()"
   ]
  },
  {
   "cell_type": "code",
   "execution_count": 12,
   "id": "d57896c1",
   "metadata": {},
   "outputs": [],
   "source": [
    "final_db.to_csv(\"criptodata.csv\", sep=\",\",index=False, header=False)"
   ]
  }
 ],
 "metadata": {
  "kernelspec": {
   "display_name": "Python 3",
   "language": "python",
   "name": "python3"
  },
  "language_info": {
   "codemirror_mode": {
    "name": "ipython",
    "version": 3
   },
   "file_extension": ".py",
   "mimetype": "text/x-python",
   "name": "python",
   "nbconvert_exporter": "python",
   "pygments_lexer": "ipython3",
   "version": "3.12.6"
  }
 },
 "nbformat": 4,
 "nbformat_minor": 5
}
